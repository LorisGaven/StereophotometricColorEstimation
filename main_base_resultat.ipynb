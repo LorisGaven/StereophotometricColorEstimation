{
 "cells": [
  {
   "cell_type": "code",
   "execution_count": 1,
   "metadata": {},
   "outputs": [],
   "source": [
    "import cv2\n",
    "from scipy.signal import convolve2d\n",
    "import numpy as np\n",
    "import os\n",
    "from scipy.sparse.linalg import svds\n",
    "import matplotlib.pyplot as plt\n",
    "from mpl_toolkits.mplot3d import Axes3D\n",
    "from scipy.fft import dctn, idctn\n",
    "import plotly.graph_objects as go\n",
    "from tqdm import tqdm"
   ]
  },
  {
   "cell_type": "code",
   "execution_count": 11,
   "metadata": {},
   "outputs": [],
   "source": [
    "import itertools"
   ]
  },
  {
   "cell_type": "code",
   "execution_count": 2,
   "metadata": {},
   "outputs": [],
   "source": [
    "from utils.fonctions import lightDirection, lightsDirection, getI, integrationSCS, stereophotometrie\n"
   ]
  },
  {
   "cell_type": "code",
   "execution_count": 3,
   "metadata": {},
   "outputs": [
    {
     "name": "stderr",
     "output_type": "stream",
     "text": [
      "100%|██████████| 16/16 [00:07<00:00,  2.06it/s]\n"
     ]
    }
   ],
   "source": [
    "images = []\n",
    "\n",
    "#path = \"./data/Face_A/rti_JPG/\"\n",
    "path = \"./data/tablette/\"\n",
    "\n",
    "file_list = os.listdir(path)\n",
    "file_list.sort()\n",
    "\n",
    "for image_path in tqdm(file_list):\n",
    "    image = cv2.imread(path + image_path)\n",
    "    ratio = image.shape[0] / image.shape[1]\n",
    "    #image = cv2.resize(image, (1000, int(1000 * ratio)))\n",
    "    images.append(image)"
   ]
  },
  {
   "cell_type": "code",
   "execution_count": 4,
   "metadata": {},
   "outputs": [
    {
     "name": "stderr",
     "output_type": "stream",
     "text": [
      "100%|██████████| 16/16 [00:50<00:00,  3.14s/it]\n"
     ]
    }
   ],
   "source": [
    "S = lightsDirection(images, [350, 1760, 1975, 3315])"
   ]
  },
  {
   "cell_type": "code",
   "execution_count": 5,
   "metadata": {},
   "outputs": [],
   "source": [
    "ratio = images[0].shape[1] / images[0].shape[0]\n",
    "imagesR = []\n",
    "imagesG = []\n",
    "imagesB = []\n",
    "imagesGray = []\n",
    "\n",
    "\n",
    "images2 = []\n",
    "for image in images:\n",
    "    i = cv2.resize(image, (1000, int(1000 * ratio)))\n",
    "    imagesR.append(i[:,:,0])\n",
    "    imagesG.append(i[:,:,1])\n",
    "    imagesB.append(i[:,:,2])\n",
    "    imagesGray.append(np.mean(i, axis=2))\n",
    "    image_ref = i"
   ]
  },
  {
   "cell_type": "code",
   "execution_count": 6,
   "metadata": {},
   "outputs": [],
   "source": [
    "masque = np.ones(imagesR[0].shape)\n",
    "exterieur = masque.flatten() == 0\n",
    "exterieur= np.reshape(exterieur, masque.shape)\n",
    "\n",
    "I_r = getI(imagesR, corrige=True)\n",
    "I_g = getI(imagesG, corrige=True)\n",
    "I_b = getI(imagesB, corrige=True)\n",
    "I_gray = getI(imagesGray, corrige=True)\n",
    "\n",
    "def hex_to_rgb(hex_valeur):\n",
    "    # Assurez-vous que la valeur hexadécimale commence par '#'\n",
    "    if hex_valeur.startswith('#'):\n",
    "        hex_valeur = hex_valeur[1:]\n",
    "\n",
    "    # Vérification de la longueur de la chaîne hexadécimale\n",
    "    if len(hex_valeur) != 6:\n",
    "        raise ValueError(\"La valeur hexadécimale doit être de 6 caractères (sans compter '#')\")\n",
    "\n",
    "    # Extraction des composantes RVB\n",
    "    rouge = int(hex_valeur[0:2], 16)\n",
    "    vert = int(hex_valeur[2:4], 16)\n",
    "    bleu = int(hex_valeur[4:], 16)\n",
    "\n",
    "    return rouge, vert, bleu"
   ]
  },
  {
   "cell_type": "code",
   "execution_count": 9,
   "metadata": {},
   "outputs": [],
   "source": [
    "def stereophotometrie(I,S,masque=None):\n",
    "    pseudo_inverse_S = np.linalg.pinv(S)\n",
    "    m = pseudo_inverse_S @ I\n",
    "\n",
    "    rho_estime = np.sqrt(np.sum(np.square(m), 0))\n",
    "    N_estime = m / (rho_estime + 1e-3)\n",
    "    N_estime[:, masque.flatten() == 0] = 0\n",
    "\n",
    "    return rho_estime, N_estime\n",
    "\n",
    "def stereophotometrie_(I,S,m_reel,lmb=1,masque=None):\n",
    "    n = S.shape[0]\n",
    "    Id = np.ones((n,3))\n",
    "    A = S.T @ S + lmb * Id.T @ Id\n",
    "    B = lmb * m_reel.T + S.T @ I\n",
    "\n",
    "    m = np.linalg.pinv(A) @ B\n",
    "\n",
    "    rho_estime = np.sqrt(np.sum(np.square(m), 0))\n",
    "    N_estime = m / (rho_estime + 1e-3)\n",
    "    N_estime[:, masque.flatten() == 0] = 0\n",
    "\n",
    "    return rho_estime, N_estime\n",
    "\n",
    "def color_mediane(image, coords):\n",
    "    m = []\n",
    "\n",
    "    for coord in coords:\n",
    "        x1,y1,x2,y2 = coord\n",
    "\n",
    "        m.append([np.mean(image[y1:y2, x1:x2, 0]), np.mean(image[y1:y2, x1:x2, 1]), (np.mean(image[y1:y2, x1:x2, 2]))])\n",
    "\n",
    "    return np.array(m) \n",
    "\n",
    "def metrics2(ref, test):\n",
    "    return np.mean(np.abs(ref - test))"
   ]
  },
  {
   "cell_type": "code",
   "execution_count": 10,
   "metadata": {},
   "outputs": [],
   "source": [
    "def stereophotometrie_base(base):\n",
    "    # valeurs pour ./data/Face_A\n",
    "\n",
    "    coords = [\n",
    "        [122,89,223,188], [255,95,346,184], [385,97,476,185], [515,101,602,185], [641, 97, 730, 187], [768, 103, 855, 184],\n",
    "        [128,222,213,307], [254,223,344,308], [383,222,475,306], [517,227,598,311], [643,227,729,309], [772,228,852,310],\n",
    "        [125,352,213,434], [253,348,346,437], [384,350,473,437], [516,354,601,438], [640,354,730,437], [772,358,859,439],\n",
    "        [122,475,215,564], [255,478,343,564], [381,478,474,565], [515,479,604,566], [643,479,727,564], [766,480,851,565],\n",
    "    ] #x1,y1,x2,y2\n",
    "\n",
    "    colors_hex = [\n",
    "        \"#735244\", \"#c29682\", \"#627a9d\", \"#576c43\", \"#8580b1\", \"#8580b1\",\n",
    "        \"#d67e2c\", \"#505ba6\", \"#c15a63\", \"#5e3c6c\", \"#9dbc40\", \"#e0a32e\",\n",
    "        \"#383d96\", \"#469449\", \"#af363c\", \"#e7c71f\", \"#bb5695\", \"#0885a1\",\n",
    "        \"#f3f3f3\", \"#c8c8c8\", \"#a0a0a0\", \"#7a7a7a\", \"#555555\", \"#343434\"\n",
    "    ]\n",
    "\n",
    "\n",
    "    # valeurs pour ./data/tablette\n",
    "\n",
    "    #coords = [[3,213,73,243], [91,212,161,242], [4,252,74,281], [92,252,162,282], [5,291,74,320], [92,290,163,321], [7,330,74,359], [93,330,163,358], [6,370,74,400], [94,370,165,398], [5,410,77,437], [96,407,165,437]]\n",
    "    coords = [[3,213,73,243], [91,212,161,242], [4,252,74,281], [92,252,162,282], [5,291,74,320], [92,290,163,321], [12,335,69,354], [93,330,163,358], [11,375,69,395], [94,370,165,398], [10,415,72,432], [96,407,165,437]]\n",
    "    colors_hex = [\"#e0a32e\", \"#343434\", \"#bb5695\", \"#555555\", \"#e7c71f\", \"#7a7a7a\", \"#af363c\", \"#a0a0a0\", \"#469449\", \"#c8c8c8\", \"#383d96\", \"#f3f3f3\"]\n",
    "\n",
    "    bleu_coords = coords[base[0]]\n",
    "    vert_coords = coords[base[1]]\n",
    "    rouge_coords = coords[base[2]]\n",
    "\n",
    "    colors = [hex_to_rgb(i) for i in colors_hex]\n",
    "\n",
    "    bleu_rgb = np.array(colors[base[0]])\n",
    "    vert_rgb = np.array(colors[base[1]])\n",
    "    rouge_rgb = np.array(colors[base[2]])\n",
    "\n",
    "\n",
    "    m_reel_r = np.zeros((*masque.shape, 3))\n",
    "    m_reel_g = np.zeros((*masque.shape, 3))\n",
    "    m_reel_b = np.zeros((*masque.shape, 3))\n",
    "\n",
    "    n0 = np.array([0,0,-1])\n",
    "\n",
    "    for coord, color in zip(coords, colors):\n",
    "        x1,y1,x2,y2 = coord\n",
    "        r,g,b= color\n",
    "\n",
    "        m_reel_r[y1:y2, x1:x2] = r * n0\n",
    "        m_reel_g[y1:y2, x1:x2] = g * n0\n",
    "        m_reel_b[y1:y2, x1:x2] = b * n0\n",
    "\n",
    "    m_reel_r = m_reel_r.reshape(-1,3)\n",
    "    m_reel_g = m_reel_g.reshape(-1,3)\n",
    "    m_reel_b = m_reel_b.reshape(-1,3)\n",
    "\n",
    "\n",
    "    lmb = 1\n",
    "\n",
    "    rho_estime_r, N_estime_r = stereophotometrie_(I_r, S, m_reel_r, lmb, masque)\n",
    "    rho_estime_g, N_estime_g = stereophotometrie_(I_g, S, m_reel_g, lmb, masque)\n",
    "    rho_estime_b, N_estime_b = stereophotometrie_(I_b, S, m_reel_b, lmb, masque)\n",
    "    rho_estime_gray, N_estime_gray = stereophotometrie(I_gray, S, masque)\n",
    "\n",
    "    rho_estime_r = 255 * (rho_estime_r - np.min(rho_estime_r)) / (np.max(rho_estime_r) - np.min(rho_estime_r))\n",
    "    rho_estime_g = 255 * (rho_estime_g - np.min(rho_estime_g)) / (np.max(rho_estime_g) - np.min(rho_estime_g))\n",
    "    rho_estime_b = 255 * (rho_estime_b - np.min(rho_estime_b)) / (np.max(rho_estime_b) - np.min(rho_estime_b))\n",
    "\n",
    "    rho_estime_r = rho_estime_r.reshape(masque.shape).astype(np.uint8)\n",
    "    rho_estime_g = rho_estime_g.reshape(masque.shape).astype(np.uint8)\n",
    "    rho_estime_b = rho_estime_b.reshape(masque.shape).astype(np.uint8)\n",
    "\n",
    "    lmd_r = 1\n",
    "    lmd_g = 1\n",
    "    lmd_b = 1\n",
    "\n",
    "    rho_estime_color = np.stack((lmd_b * rho_estime_b, lmd_g * rho_estime_g, lmd_r * rho_estime_r), axis=-1)\n",
    "\n",
    "    m_color = color_mediane(rho_estime_color, coords)\n",
    "\n",
    "    m_bleu = m_color[base[0],:]\n",
    "    m_vert = m_color[base[1],:]\n",
    "    m_rouge = m_color[base[2],:]\n",
    "\n",
    "    bgr_stereo = np.stack((m_bleu, m_vert, m_rouge), axis=-1)\n",
    "    bgr_stereo = bgr_stereo[::-1,:]\n",
    "\n",
    "    bgr_original = np.stack((bleu_rgb, vert_rgb, rouge_rgb), axis=-1)\n",
    "    #Inverser l'ordre des lignes pour que les couleurs soient dans le bon ordre\n",
    "    bgr_original = bgr_original[::-1,:]\n",
    "\n",
    "    det_mbgr = np.linalg.det(bgr_stereo)\n",
    "    lambdas = np.zeros(rho_estime_color.shape)\n",
    "    for i in range(rho_estime_color.shape[0]):\n",
    "        for j in range(rho_estime_color.shape[1]):\n",
    "            MB = np.stack((rho_estime_color[i,j,::-1], m_vert[::-1], m_rouge[::-1]), axis=-1)\n",
    "            MG = np.stack((m_bleu[::-1], rho_estime_color[i,j,::-1], m_rouge[::-1]), axis=-1)\n",
    "            MR = np.stack((m_bleu[::-1], m_vert[::-1], rho_estime_color[i,j,::-1]), axis=-1)\n",
    "            lambdas[i,j,0] = np.linalg.det(MB) / det_mbgr\n",
    "            lambdas[i,j,1] = np.linalg.det(MG) / det_mbgr\n",
    "            lambdas[i,j,2] = np.linalg.det(MR) / det_mbgr\n",
    "\n",
    "    rho_estime_color_corrige = np.zeros(rho_estime_color.shape)\n",
    "    for i in range(rho_estime_color.shape[0]):\n",
    "        for j in range(rho_estime_color.shape[1]):\n",
    "            rho_estime_color_corrige[i,j,::-1] = lambdas[i,j,0]*bleu_rgb[::-1] + lambdas[i,j,1]*vert_rgb[::-1]+ lambdas[i,j,2]*rouge_rgb[::-1]\n",
    "\n",
    "    diff = metrics2(color_mediane(rho_estime_color_corrige, coords), np.array(colors))\n",
    "\n",
    "    return diff, base, rho_estime_color_corrige\n",
    "\n",
    "    "
   ]
  },
  {
   "cell_type": "code",
   "execution_count": 14,
   "metadata": {},
   "outputs": [
    {
     "name": "stderr",
     "output_type": "stream",
     "text": [
      "  5%|▌         | 1/20 [00:10<03:18, 10.43s/it]"
     ]
    },
    {
     "name": "stdout",
     "output_type": "stream",
     "text": [
      "42.18011928707767 (0, 2, 4)\n"
     ]
    },
    {
     "name": "stderr",
     "output_type": "stream",
     "text": [
      " 10%|█         | 2/20 [00:20<03:06, 10.35s/it]"
     ]
    },
    {
     "name": "stdout",
     "output_type": "stream",
     "text": [
      "77.88839018157535 (0, 2, 6)\n"
     ]
    },
    {
     "name": "stderr",
     "output_type": "stream",
     "text": [
      " 15%|█▌        | 3/20 [00:31<02:56, 10.36s/it]"
     ]
    },
    {
     "name": "stdout",
     "output_type": "stream",
     "text": [
      "43.18996593542579 (0, 2, 8)\n"
     ]
    },
    {
     "name": "stderr",
     "output_type": "stream",
     "text": [
      " 20%|██        | 4/20 [00:41<02:45, 10.36s/it]"
     ]
    },
    {
     "name": "stdout",
     "output_type": "stream",
     "text": [
      "62.31515026703423 (0, 2, 10)\n"
     ]
    },
    {
     "name": "stderr",
     "output_type": "stream",
     "text": [
      " 25%|██▌       | 5/20 [00:51<02:35, 10.36s/it]"
     ]
    },
    {
     "name": "stdout",
     "output_type": "stream",
     "text": [
      "47.90186768295132 (0, 4, 6)\n"
     ]
    },
    {
     "name": "stderr",
     "output_type": "stream",
     "text": [
      " 30%|███       | 6/20 [01:02<02:24, 10.35s/it]"
     ]
    },
    {
     "name": "stdout",
     "output_type": "stream",
     "text": [
      "72.36988727986827 (0, 4, 8)\n"
     ]
    },
    {
     "name": "stderr",
     "output_type": "stream",
     "text": [
      " 35%|███▌      | 7/20 [01:12<02:14, 10.36s/it]"
     ]
    },
    {
     "name": "stdout",
     "output_type": "stream",
     "text": [
      "51.224411149570734 (0, 4, 10)\n"
     ]
    },
    {
     "name": "stderr",
     "output_type": "stream",
     "text": [
      " 40%|████      | 8/20 [01:22<02:04, 10.36s/it]"
     ]
    },
    {
     "name": "stdout",
     "output_type": "stream",
     "text": [
      "50.271372076233725 (0, 6, 8)\n"
     ]
    },
    {
     "name": "stderr",
     "output_type": "stream",
     "text": [
      " 45%|████▌     | 9/20 [01:33<01:53, 10.36s/it]"
     ]
    },
    {
     "name": "stdout",
     "output_type": "stream",
     "text": [
      "66.14763874409523 (0, 6, 10)\n"
     ]
    },
    {
     "name": "stderr",
     "output_type": "stream",
     "text": [
      " 50%|█████     | 10/20 [01:43<01:43, 10.34s/it]"
     ]
    },
    {
     "name": "stdout",
     "output_type": "stream",
     "text": [
      "1208.4109097064772 (0, 8, 10)\n"
     ]
    },
    {
     "name": "stderr",
     "output_type": "stream",
     "text": [
      " 55%|█████▌    | 11/20 [01:54<01:33, 10.38s/it]"
     ]
    },
    {
     "name": "stdout",
     "output_type": "stream",
     "text": [
      "22.497353401256152 (2, 4, 6)\n"
     ]
    },
    {
     "name": "stderr",
     "output_type": "stream",
     "text": [
      " 60%|██████    | 12/20 [02:04<01:23, 10.43s/it]"
     ]
    },
    {
     "name": "stdout",
     "output_type": "stream",
     "text": [
      "23.137814359609152 (2, 4, 8)\n"
     ]
    },
    {
     "name": "stderr",
     "output_type": "stream",
     "text": [
      " 65%|██████▌   | 13/20 [02:14<01:12, 10.43s/it]"
     ]
    },
    {
     "name": "stdout",
     "output_type": "stream",
     "text": [
      "20.726693451623646 (2, 4, 10)\n"
     ]
    },
    {
     "name": "stderr",
     "output_type": "stream",
     "text": [
      " 70%|███████   | 14/20 [02:25<01:02, 10.42s/it]"
     ]
    },
    {
     "name": "stdout",
     "output_type": "stream",
     "text": [
      "20.81296233384595 (2, 6, 8)\n"
     ]
    },
    {
     "name": "stderr",
     "output_type": "stream",
     "text": [
      " 75%|███████▌  | 15/20 [02:35<00:52, 10.41s/it]"
     ]
    },
    {
     "name": "stdout",
     "output_type": "stream",
     "text": [
      "96.7632969090651 (2, 6, 10)\n"
     ]
    },
    {
     "name": "stderr",
     "output_type": "stream",
     "text": [
      " 80%|████████  | 16/20 [02:46<00:41, 10.40s/it]"
     ]
    },
    {
     "name": "stdout",
     "output_type": "stream",
     "text": [
      "19.72696840190899 (2, 8, 10)\n"
     ]
    },
    {
     "name": "stderr",
     "output_type": "stream",
     "text": [
      " 85%|████████▌ | 17/20 [02:56<00:31, 10.41s/it]"
     ]
    },
    {
     "name": "stdout",
     "output_type": "stream",
     "text": [
      "39.05955666337317 (4, 6, 8)\n"
     ]
    },
    {
     "name": "stderr",
     "output_type": "stream",
     "text": [
      " 90%|█████████ | 18/20 [03:06<00:20, 10.41s/it]"
     ]
    },
    {
     "name": "stdout",
     "output_type": "stream",
     "text": [
      "20.301754249376827 (4, 6, 10)\n"
     ]
    },
    {
     "name": "stderr",
     "output_type": "stream",
     "text": [
      " 95%|█████████▌| 19/20 [03:17<00:10, 10.40s/it]"
     ]
    },
    {
     "name": "stdout",
     "output_type": "stream",
     "text": [
      "23.855837122631947 (4, 8, 10)\n"
     ]
    },
    {
     "name": "stderr",
     "output_type": "stream",
     "text": [
      "100%|██████████| 20/20 [03:27<00:00, 10.39s/it]"
     ]
    },
    {
     "name": "stdout",
     "output_type": "stream",
     "text": [
      "18.252776038400768 (6, 8, 10)\n"
     ]
    },
    {
     "name": "stderr",
     "output_type": "stream",
     "text": [
      "\n"
     ]
    }
   ],
   "source": [
    "array = list(range(0,12,2))\n",
    "triplets = list(itertools.combinations(array, 3))\n",
    "diffs = []\n",
    "bases = []\n",
    "rho_estime_color_corriges = []\n",
    "for base in tqdm(triplets):\n",
    "    diff, base, rho_estime_color_corrige = stereophotometrie_base(base)\n",
    "    bases.append(base)\n",
    "    diffs.append(diff)\n",
    "    rho_estime_color_corriges.append(rho_estime_color_corrige)\n",
    "    print(diff, base)"
   ]
  },
  {
   "cell_type": "code",
   "execution_count": 24,
   "metadata": {},
   "outputs": [
    {
     "data": {
      "text/plain": [
       "(array([120.06850947, 105.5051162 , 120.27175496, 101.49578323,\n",
       "         66.14763874,  45.63516776,  41.53965579, 116.49026531,\n",
       "         59.36131091,  42.10861316]),\n",
       " array([ 0. ,  1.9,  3.8,  5.7,  7.6,  9.5, 11.4, 13.3, 15.2, 17.1, 19. ]),\n",
       " <BarContainer object of 10 artists>)"
      ]
     },
     "execution_count": 24,
     "metadata": {},
     "output_type": "execute_result"
    },
    {
     "data": {
      "image/png": "[encoded data removed]",
      "text/plain": [
       "<Figure size 640x480 with 1 Axes>"
      ]
     },
     "metadata": {},
     "output_type": "display_data"
    }
   ],
   "source": [
    "#Afficher un historgalmlme des différences (en log)\n",
    "diffs.pop(9)\n",
    "valeurs = list(range(len(triplets)))\n",
    "valeurs.pop(9)\n",
    "plt.hist(valeurs, weights = diffs)"
   ]
  }
 ],
 "metadata": {
  "kernelspec": {
   "display_name": "BE",
   "language": "python",
   "name": "python3"
  },
  "language_info": {
   "codemirror_mode": {
    "name": "ipython",
    "version": 3
   },
   "file_extension": ".py",
   "mimetype": "text/x-python",
   "name": "python",
   "nbconvert_exporter": "python",
   "pygments_lexer": "ipython3",
   "version": "3.10.13"
  }
 },
 "nbformat": 4,
 "nbformat_minor": 2
}
