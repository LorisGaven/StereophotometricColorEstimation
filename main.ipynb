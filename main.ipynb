{
 "cells": [
  {
   "cell_type": "code",
   "execution_count": null,
   "metadata": {},
   "outputs": [],
   "source": [
    "import cv2\n",
    "from scipy.signal import convolve2d\n",
    "import numpy as np\n",
    "import os\n",
    "from scipy.sparse.linalg import svds\n",
    "import matplotlib.pyplot as plt\n",
    "from mpl_toolkits.mplot3d import Axes3D\n",
    "from scipy.fft import dctn, idctn\n",
    "import plotly.graph_objects as go\n",
    "from tqdm import tqdm"
   ]
  },
  {
   "cell_type": "code",
   "execution_count": null,
   "metadata": {},
   "outputs": [],
   "source": [
    "from utils.fonctions import lightDirection, lightsDirection, getI, integrationSCS, stereophotometrie"
   ]
  },
  {
   "cell_type": "code",
   "execution_count": null,
   "metadata": {},
   "outputs": [],
   "source": [
    "images = []\n",
    "\n",
    "path = \"./data/tablette/\"\n",
    "\n",
    "for image_path in tqdm(os.listdir(path)):\n",
    "    image = cv2.imread(path + image_path)\n",
    "    images.append(image)"
   ]
  },
  {
   "cell_type": "code",
   "execution_count": null,
   "metadata": {},
   "outputs": [],
   "source": [
    "images[0].shape"
   ]
  },
  {
   "cell_type": "code",
   "execution_count": null,
   "metadata": {},
   "outputs": [],
   "source": [
    "S = lightsDirection(images, [350, 1760, 1975, 3315])"
   ]
  },
  {
   "cell_type": "code",
   "execution_count": null,
   "metadata": {},
   "outputs": [],
   "source": [
    "S"
   ]
  },
  {
   "cell_type": "code",
   "execution_count": null,
   "metadata": {},
   "outputs": [],
   "source": [
    "ratio = images[0].shape[1] / images[0].shape[0]\n",
    "imagesR = []\n",
    "imagesG = []\n",
    "imagesB = []\n",
    "imagesGray = []\n",
    "\n",
    "images2 = []\n",
    "for image in images:\n",
    "    i = cv2.resize(image, (1000, int(1000 * ratio)))\n",
    "    imagesR.append(i[:,:,0])\n",
    "    imagesG.append(i[:,:,1])\n",
    "    imagesB.append(i[:,:,2])\n",
    "    imagesGray.append(np.mean(i, axis=2))"
   ]
  },
  {
   "cell_type": "code",
   "execution_count": null,
   "metadata": {},
   "outputs": [],
   "source": [
    "imagesGray[0].shape"
   ]
  },
  {
   "cell_type": "code",
   "execution_count": null,
   "metadata": {},
   "outputs": [],
   "source": [
    "masque = np.ones(imagesGray[0].shape)\n",
    "exterieur = masque.flatten() == 0\n",
    "exterieur= np.reshape(exterieur, masque.shape)"
   ]
  },
  {
   "cell_type": "code",
   "execution_count": null,
   "metadata": {},
   "outputs": [],
   "source": [
    "I_r = getI(imagesR, corrige=True)\n",
    "I_g = getI(imagesG, corrige=True)\n",
    "I_b = getI(imagesB, corrige=True)\n",
    "I_gray = getI(imagesGray, corrige=True)"
   ]
  },
  {
   "cell_type": "code",
   "execution_count": null,
   "metadata": {},
   "outputs": [],
   "source": [
    "def stereophotometrie(I,S,masque=None):\n",
    "    pseudo_inverse_S = np.linalg.pinv(S)\n",
    "    m = pseudo_inverse_S @ I\n",
    "\n",
    "    rho_estime = np.sqrt(np.sum(np.square(m), 0))\n",
    "    N_estime = m / (rho_estime + 1e-3)\n",
    "    N_estime[:, masque.flatten() == 0] = 0\n",
    "\n",
    "    return rho_estime, N_estime"
   ]
  },
  {
   "cell_type": "code",
   "execution_count": null,
   "metadata": {},
   "outputs": [],
   "source": [
    "rho_estime_r, N_estime_r = stereophotometrie(I_r, S, masque)\n",
    "rho_estime_g, N_estime_g = stereophotometrie(I_g, S, masque)\n",
    "rho_estime_b, N_estime_b = stereophotometrie(I_b, S, masque)\n",
    "rho_estime_gray, N_estime_gray = stereophotometrie(I_gray, S, masque)"
   ]
  },
  {
   "cell_type": "code",
   "execution_count": null,
   "metadata": {},
   "outputs": [],
   "source": [
    "N_estime_gray[2, exterieur.flatten()] = 1"
   ]
  },
  {
   "cell_type": "code",
   "execution_count": null,
   "metadata": {},
   "outputs": [],
   "source": [
    "p_estime = np.reshape(-N_estime_gray[0, :] / N_estime_gray[2, :], masque.shape)\n",
    "p_estime[exterieur] = 0\n",
    "q_estime = np.reshape(-N_estime_gray[1, :] / N_estime_gray[2, :], masque.shape)\n",
    "q_estime[exterieur] = 0"
   ]
  },
  {
   "cell_type": "code",
   "execution_count": null,
   "metadata": {},
   "outputs": [],
   "source": [
    "z_estime = integrationSCS(p_estime, q_estime)"
   ]
  },
  {
   "cell_type": "code",
   "execution_count": null,
   "metadata": {},
   "outputs": [],
   "source": [
    "nb_lignes, nb_colonnes = z_estime.shape\n",
    "mid_row = np.floor(nb_lignes / 2).astype(int)\n",
    "mid_col = np.floor(nb_colonnes / 2).astype(int)\n",
    "\n",
    "# Vérification de la condition et modification du tableau z_estime si nécessaire\n",
    "if z_estime[mid_row, mid_col] < z_estime[1, 1]:\n",
    "    z_estime = -z_estime\n",
    "z_estime[exterieur] = 0"
   ]
  },
  {
   "cell_type": "code",
   "execution_count": null,
   "metadata": {},
   "outputs": [],
   "source": [
    "plt.imshow(z_estime, cmap='viridis')  # Utilisation de log pour mieux visualiser les différences\n",
    "plt.colorbar()  # Ajout d'une barre de couleur pour indiquer l'échelle\n",
    "plt.show()"
   ]
  },
  {
   "cell_type": "markdown",
   "metadata": {},
   "source": [
    "plt.imshow()  # Utilisation de log pour mieux visualiser les différences\n",
    "plt.colorbar()  # Ajout d'une barre de couleur pour indiquer l'échelle\n",
    "plt.show()"
   ]
  },
  {
   "cell_type": "code",
   "execution_count": null,
   "metadata": {},
   "outputs": [],
   "source": [
    "image_ref = cv2.resize(images[0], (1000, int(1000 * ratio)))\n",
    "plt.imshow(image_ref)  # Utilisation de log pour mieux visualiser les différences\n",
    "plt.colorbar()  # Ajout d'une barre de couleur pour indiquer l'échelle\n",
    "plt.show()"
   ]
  },
  {
   "cell_type": "code",
   "execution_count": null,
   "metadata": {},
   "outputs": [],
   "source": [
    "I_r_m = np.median(I_r, axis=0)\n",
    "I_g_m = np.median(I_g, axis=0)\n",
    "I_b_m = np.median(I_b, axis=0)"
   ]
  },
  {
   "cell_type": "code",
   "execution_count": null,
   "metadata": {},
   "outputs": [],
   "source": [
    "I_r_m = I_r_m.reshape(masque.shape).astype(np.uint8)\n",
    "I_g_m = I_g_m.reshape(masque.shape).astype(np.uint8)\n",
    "I_b_m = I_b_m.reshape(masque.shape).astype(np.uint8)\n",
    "\n",
    "rho_estime_color = np.stack((I_r_m, I_g_m, I_b_m), axis=-1)\n",
    "plt.imshow((rho_estime_color).astype(np.uint8))  # Utilisation de log pour mieux visualiser les différences\n",
    "plt.colorbar()  # Ajout d'une barre de couleur pour indiquer l'échelle\n",
    "plt.show()"
   ]
  },
  {
   "cell_type": "code",
   "execution_count": null,
   "metadata": {},
   "outputs": [],
   "source": [
    "b, g, r = cv2.split(image_ref)\n",
    "\n",
    "# Créer une figure pour afficher les canaux côte à côte\n",
    "plt.figure(figsize=(10, 4))  # Définir la taille de la figure\n",
    "\n",
    "# Afficher chaque canal séparément\n",
    "plt.subplot(1, 3, 1)\n",
    "plt.imshow(r, cmap='Reds')\n",
    "plt.title('Canal Rouge')\n",
    "plt.axis('off')  # Désactiver les axes\n",
    "\n",
    "plt.subplot(1, 3, 2)\n",
    "plt.imshow(g, cmap='Greens')\n",
    "plt.title('Canal Vert')\n",
    "plt.axis('off')\n",
    "\n",
    "plt.subplot(1, 3, 3)\n",
    "plt.imshow(b, cmap='Blues')\n",
    "plt.title('Canal Bleu')\n",
    "plt.axis('off')\n",
    "\n",
    "plt.tight_layout()  # Ajuster la disposition pour éviter les chevauchements\n",
    "plt.show()"
   ]
  },
  {
   "cell_type": "code",
   "execution_count": null,
   "metadata": {},
   "outputs": [],
   "source": [
    "rho_estime_r = rho_estime_r.reshape(masque.shape).astype(np.uint8)\n",
    "rho_estime_g = rho_estime_g.reshape(masque.shape).astype(np.uint8)\n",
    "rho_estime_b = rho_estime_b.reshape(masque.shape).astype(np.uint8)\n",
    "\n",
    "lmd_r = 1\n",
    "lmd_g = 1\n",
    "lmd_b = 1\n",
    "\n",
    "rho_estime_color = np.stack((lmd_r * rho_estime_r, lmd_g * rho_estime_g, lmd_b * rho_estime_b), axis=-1)\n",
    "plt.imshow((rho_estime_color).astype(np.uint8))  # Utilisation de log pour mieux visualiser les différences\n",
    "plt.colorbar()  # Ajout d'une barre de couleur pour indiquer l'échelle\n",
    "plt.show()"
   ]
  },
  {
   "cell_type": "code",
   "execution_count": null,
   "metadata": {},
   "outputs": [],
   "source": [
    "b, g, r = cv2.split(rho_estime_color)\n",
    "\n",
    "# Créer une figure pour afficher les canaux côte à côte\n",
    "plt.figure(figsize=(10, 4))  # Définir la taille de la figure\n",
    "\n",
    "# Afficher chaque canal séparément\n",
    "plt.subplot(1, 3, 1)\n",
    "plt.imshow(r, cmap='Reds')\n",
    "plt.title('Canal Rouge')\n",
    "plt.axis('off')  # Désactiver les axes\n",
    "\n",
    "plt.subplot(1, 3, 2)\n",
    "plt.imshow(g, cmap='Greens')\n",
    "plt.title('Canal Vert')\n",
    "plt.axis('off')\n",
    "\n",
    "plt.subplot(1, 3, 3)\n",
    "plt.imshow(b, cmap='Blues')\n",
    "plt.title('Canal Bleu')\n",
    "plt.axis('off')\n",
    "\n",
    "plt.tight_layout()  # Ajuster la disposition pour éviter les chevauchements\n",
    "plt.show()"
   ]
  },
  {
   "cell_type": "code",
   "execution_count": null,
   "metadata": {},
   "outputs": [],
   "source": [
    "def hex_to_rgb(hex_valeur):\n",
    "    # Assurez-vous que la valeur hexadécimale commence par '#'\n",
    "    if hex_valeur.startswith('#'):\n",
    "        hex_valeur = hex_valeur[1:]\n",
    "\n",
    "    # Vérification de la longueur de la chaîne hexadécimale\n",
    "    if len(hex_valeur) != 6:\n",
    "        raise ValueError(\"La valeur hexadécimale doit être de 6 caractères (sans compter '#')\")\n",
    "\n",
    "    # Extraction des composantes RVB\n",
    "    rouge = int(hex_valeur[0:2], 16)\n",
    "    vert = int(hex_valeur[2:4], 16)\n",
    "    bleu = int(hex_valeur[4:], 16)\n",
    "\n",
    "    return rouge, vert, bleu"
   ]
  },
  {
   "cell_type": "code",
   "execution_count": null,
   "metadata": {},
   "outputs": [],
   "source": [
    "markers = [[3,213,73,243], [91,212,161,242], [4,252,74,281], [92,252,162,282], [5,291,74,320], [92,290,163,321], [7,330,74,359], [93,330,163,358], [6,370,74,400], [94,370,165,398], [5,410,77,437], [96,407,165,437]]\n",
    "markers_colors_hex = [\"#0885a1\", \"#343434\", \"#bb5695\", \"#555555\", \"#e7c71f\", \"#7a7a7a\", \"#af363c\", \"#a0a0a0\", \"#469449\", \"#c8c8c8\", \"#383d96\", \"#f3f3f3\"]\n",
    "\n",
    "markers_colors_hex = [hex_to_rgb(i) for i in markers_colors_hex]\n",
    "\n",
    "print(len(markers), len(markers_colors_hex))"
   ]
  },
  {
   "cell_type": "code",
   "execution_count": null,
   "metadata": {},
   "outputs": [],
   "source": [
    "image_ref = cv2.resize(images[0], (1000, int(1000 * ratio)))\n",
    "\n",
    "def couleur_mediane_rectangle(img, coords):\n",
    "    x1, y1, x2, y2 = coords\n",
    "\n",
    "    # Extraire le rectangle de l'image\n",
    "    rectangle = img[y1:y2, x1:x2]\n",
    "\n",
    "    # Calculer la couleur médiane dans le rectangle\n",
    "    couleur_mediane = np.median(rectangle, axis=(0, 1)).astype(int)\n",
    "    return couleur_mediane\n",
    "\n",
    "couleurs_medianes = []\n",
    "# Obtenir la couleur médiane pour chaque rectangle défini\n",
    "for idx, coord in enumerate(markers, start=1):\n",
    "    couleur_mediane = couleur_mediane_rectangle(rho_estime_color, coord)\n",
    "    couleurs_medianes.append(couleur_mediane)\n",
    "    print(f\"Couleur médiane du rectangle {idx}: {couleur_mediane}\")\n",
    "    cv2.rectangle(rho_estime_color, (coord[0], coord[1]), (coord[2], coord[3]), couleur_mediane.tolist(), thickness=2)\n",
    "\n",
    "matrice_couleurs = np.array(couleurs_medianes)\n",
    "\n",
    "produit_RG = np.multiply(matrice_couleurs[:, 0], matrice_couleurs[:, 1]).reshape(-1, 1)\n",
    "produit_RB = np.multiply(matrice_couleurs[:, 0], matrice_couleurs[:, 2]).reshape(-1, 1)\n",
    "produit_GB = np.multiply(matrice_couleurs[:, 1], matrice_couleurs[:, 2]).reshape(-1, 1)\n",
    "\n",
    "# Ajouter une colonne de valeurs R**2, G**2 et B**2 à la matrice\n",
    "valeurs_carrees = np.square(matrice_couleurs[:, :3])  # Obtenir les valeurs R**2, G**2, B**2\n",
    "matrice_couleurs = np.hstack((matrice_couleurs, valeurs_carrees))\n",
    "matrice_couleurs = np.hstack((matrice_couleurs, produit_RG, produit_RB, produit_GB))\n",
    "\n",
    "matrice_real_colors = np.array(markers_colors_hex)\n"
   ]
  },
  {
   "cell_type": "code",
   "execution_count": null,
   "metadata": {},
   "outputs": [],
   "source": [
    "cv2.imshow('Image avec rectangles', rho_estime_color)\n",
    "cv2.waitKey(0)\n",
    "cv2.destroyAllWindows()"
   ]
  },
  {
   "cell_type": "code",
   "execution_count": null,
   "metadata": {},
   "outputs": [],
   "source": [
    "def matrice_couleurs_rectangle(img, coords):\n",
    "    x1, y1, x2, y2 = coords\n",
    "\n",
    "    # Extraire les pixels du rectangle de l'image\n",
    "    rectangle = img[y1:y2, x1:x2]\n",
    "\n",
    "    # Reformater les pixels en une matrice de couleurs\n",
    "    matrice_pixels = rectangle.reshape((-1, 3))\n",
    "\n",
    "    return matrice_pixels\n",
    "\n",
    "# Créer une matrice des couleurs pour chaque rectangle\n",
    "matrices_couleurs_rectangles = []\n",
    "matrices_couleurs_reelles = []\n",
    "for idx, coord in enumerate(markers, start=1):\n",
    "    matrice_couleurs_ = matrice_couleurs_rectangle(rho_estime_color, coord)\n",
    "    matrices_couleurs_rectangles.append(matrice_couleurs_)\n",
    "    \n",
    "    couleur_reelle = np.tile(markers_colors_hex[idx - 1], (matrice_couleurs_.shape[0], 1))\n",
    "    matrices_couleurs_reelles.append(couleur_reelle)\n",
    "\n",
    "# Concaténer toutes les matrices des couleurs\n",
    "matrice_couleurs_complete = np.vstack(matrices_couleurs_rectangles)\n",
    "matrice_couleurs_reelles_complete = np.vstack(matrices_couleurs_reelles)"
   ]
  },
  {
   "cell_type": "code",
   "execution_count": null,
   "metadata": {},
   "outputs": [],
   "source": [
    "produit_RG = np.multiply(matrice_couleurs_complete[:, 0], matrice_couleurs_complete[:, 1]).reshape(-1, 1)\n",
    "produit_RB = np.multiply(matrice_couleurs_complete[:, 0], matrice_couleurs_complete[:, 2]).reshape(-1, 1)\n",
    "produit_GB = np.multiply(matrice_couleurs_complete[:, 1], matrice_couleurs_complete[:, 2]).reshape(-1, 1)\n",
    "\n",
    "# Ajouter une colonne de valeurs R**2, G**2 et B**2 à la matrice\n",
    "valeurs_carrees = np.square(matrice_couleurs_complete[:, :3])  # Obtenir les valeurs R**2, G**2, B**2\n",
    "matrice_couleurs_complete = np.hstack((matrice_couleurs_complete, valeurs_carrees))\n",
    "matrice_couleurs_complete = np.hstack((matrice_couleurs_complete, produit_RG, produit_RB, produit_GB))"
   ]
  },
  {
   "cell_type": "code",
   "execution_count": null,
   "metadata": {},
   "outputs": [],
   "source": [
    "matrice_real_colors.shape"
   ]
  },
  {
   "cell_type": "code",
   "execution_count": null,
   "metadata": {},
   "outputs": [],
   "source": [
    "pseudo_inverse = np.linalg.pinv(matrice_couleurs)\n",
    "coeff_med = pseudo_inverse @ matrice_real_colors\n",
    "\n",
    "coeff_med.shape"
   ]
  },
  {
   "cell_type": "code",
   "execution_count": null,
   "metadata": {},
   "outputs": [],
   "source": [
    "matrice_real_colors[:,0]"
   ]
  },
  {
   "cell_type": "code",
   "execution_count": null,
   "metadata": {},
   "outputs": [],
   "source": [
    "matrice_couleurs @ coeff_med"
   ]
  },
  {
   "cell_type": "code",
   "execution_count": null,
   "metadata": {},
   "outputs": [],
   "source": [
    "pseudo_inverse = np.linalg.pinv(matrice_couleurs_complete)\n",
    "coeff_all = pseudo_inverse @ matrice_couleurs_reelles_complete\n",
    "\n",
    "coeff_all.shape"
   ]
  },
  {
   "cell_type": "code",
   "execution_count": null,
   "metadata": {},
   "outputs": [],
   "source": [
    "rho_estime_color_ = rho_estime_color.reshape((-1, 3))\n",
    "\n",
    "produit_RG = np.multiply(rho_estime_color_[:, 0], rho_estime_color_[:, 1]).reshape(-1, 1)\n",
    "produit_RB = np.multiply(rho_estime_color_[:, 0], rho_estime_color_[:, 2]).reshape(-1, 1)\n",
    "produit_GB = np.multiply(rho_estime_color_[:, 1], rho_estime_color_[:, 2]).reshape(-1, 1)\n",
    "\n",
    "valeurs_carrees = np.square(rho_estime_color_[:, :3])  # Obtenir les valeurs R**2, G**2, B**2\n",
    "rho_estime_color_ = np.hstack((rho_estime_color_, valeurs_carrees))\n",
    "rho_estime_color_ = np.hstack((rho_estime_color_, produit_RG, produit_RB, produit_GB))\n",
    "\n",
    "rho_estime_color_.shape"
   ]
  },
  {
   "cell_type": "code",
   "execution_count": null,
   "metadata": {},
   "outputs": [],
   "source": [
    "new_colors_med = rho_estime_color_ @ coeff_med\n",
    "new_colors_all = rho_estime_color_ @ coeff_all\n",
    "new_colors_med.shape, new_colors_all.shape"
   ]
  },
  {
   "cell_type": "code",
   "execution_count": null,
   "metadata": {},
   "outputs": [],
   "source": [
    "new_colors_med = new_colors_med.reshape(rho_estime_color.shape).astype(np.uint8)\n",
    "new_colors_all = new_colors_all.reshape(rho_estime_color.shape).astype(np.uint8)\n",
    "new_colors_med.shape, new_colors_all.shape"
   ]
  },
  {
   "cell_type": "code",
   "execution_count": null,
   "metadata": {},
   "outputs": [],
   "source": [
    "plt.imshow(new_colors_med)  # Utilisation de log pour mieux visualiser les différences\n",
    "plt.colorbar()  # Ajout d'une barre de couleur pour indiquer l'échelle\n",
    "plt.show()"
   ]
  },
  {
   "cell_type": "code",
   "execution_count": null,
   "metadata": {},
   "outputs": [],
   "source": [
    "plt.imshow(new_colors_all)  # Utilisation de log pour mieux visualiser les différences\n",
    "plt.colorbar()  # Ajout d'une barre de couleur pour indiquer l'échelle\n",
    "plt.show()"
   ]
  },
  {
   "cell_type": "code",
   "execution_count": null,
   "metadata": {},
   "outputs": [],
   "source": [
    "plt.imshow(image_ref)  # Utilisation de log pour mieux visualiser les différences\n",
    "plt.colorbar()  # Ajout d'une barre de couleur pour indiquer l'échelle\n",
    "plt.show()"
   ]
  },
  {
   "cell_type": "code",
   "execution_count": null,
   "metadata": {},
   "outputs": [],
   "source": [
    "x, y = np.meshgrid(np.arange(z_estime.shape[1]), np.arange(z_estime.shape[0]))"
   ]
  },
  {
   "cell_type": "code",
   "execution_count": null,
   "metadata": {},
   "outputs": [],
   "source": [
    "print(x.shape)\n",
    "print(y.shape)\n",
    "print(z_estime.shape)\n",
    "print(rho_estime_color.shape)"
   ]
  },
  {
   "cell_type": "code",
   "execution_count": null,
   "metadata": {},
   "outputs": [],
   "source": [
    "fig = go.Figure(data=[go.Surface(z=z_estime, x=x, y=y)])\n",
    "\n",
    "# Mise en forme et affichage de la figure\n",
    "fig.update_layout(title='Surface 3D', autosize=False,\n",
    "                  width=800, height=600,\n",
    "                  margin=dict(l=40, r=40, b=40, t=40))\n",
    "fig.show()"
   ]
  },
  {
   "cell_type": "code",
   "execution_count": null,
   "metadata": {},
   "outputs": [],
   "source": [
    "\"\"\"import plotly.graph_objs as go\n",
    "import plotly.express as px\n",
    "import numpy as np\n",
    "\n",
    "# Génération de données aléatoires pour les coordonnées x, y, z\n",
    "np.random.seed(42)\n",
    "num_points = 100\n",
    "x_data = x.flatten()\n",
    "y_data = y.flatten()\n",
    "z_data = z_estime.flatten()\n",
    "# Génération de couleurs RVB aléatoires pour chaque point\n",
    "colors_rgb = np.random.randint(0, 256, size=(x_data.shape[0], 3))\n",
    "\n",
    "print(rho_estime_color.reshape(-1,3).shape, colors_rgb.shape)\n",
    "\n",
    "# Conversion des valeurs RVB en chaînes hexadécimales pour Plotly\n",
    "colors_hex = ['#%02x%02x%02x' % tuple(rgb) for rgb in rho_estime_color.reshape(-1,3).astype(np.uint8)]\n",
    "\n",
    "num_points_to_display = 40000  # Nombre de points à afficher\n",
    "random_indices = np.random.choice(x_data.shape[0], size=num_points_to_display, replace=False)\n",
    "\n",
    "x_data = x_data[random_indices]\n",
    "y_data = y_data[random_indices]\n",
    "z_data = z_data[random_indices]\n",
    "colors_subset = [colors_hex[i] for i in random_indices]\n",
    "\n",
    "# Création de la figure 3D\n",
    "fig = go.Figure(data=[go.Scatter3d(\n",
    "    x=x_data,\n",
    "    y=y_data,\n",
    "    z=z_data,\n",
    "    mode='markers',\n",
    "    marker=dict(\n",
    "        size=1,\n",
    "        color=colors_hex,  # Utilisation des couleurs aléatoires RVB\n",
    "        opacity=0.8\n",
    "    )\n",
    ")])\n",
    "\n",
    "# Mise en forme du layout\n",
    "fig.update_layout(\n",
    "    scene=dict(\n",
    "        xaxis=dict(title='X-axis'),\n",
    "        yaxis=dict(title='Y-axis'),\n",
    "        zaxis=dict(title='Z-axis')\n",
    "    ),\n",
    "    title='Points 3D avec couleurs RVB aléatoires'\n",
    ")\n",
    "\n",
    "# Affichage de la figure\n",
    "fig.show()\"\"\""
   ]
  },
  {
   "cell_type": "code",
   "execution_count": null,
   "metadata": {},
   "outputs": [],
   "source": []
  }
 ],
 "metadata": {
  "kernelspec": {
   "display_name": "Python 3",
   "language": "python",
   "name": "python3"
  },
  "language_info": {
   "codemirror_mode": {
    "name": "ipython",
    "version": 3
   },
   "file_extension": ".py",
   "mimetype": "text/x-python",
   "name": "python",
   "nbconvert_exporter": "python",
   "pygments_lexer": "ipython3",
   "version": "3.9.4"
  }
 },
 "nbformat": 4,
 "nbformat_minor": 2
}
